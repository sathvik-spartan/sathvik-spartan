{
  "nbformat": 4,
  "nbformat_minor": 0,
  "metadata": {
    "colab": {
      "provenance": [],
      "authorship_tag": "ABX9TyOgJYS1BKDgr0auoFdkkVsp",
      "include_colab_link": true
    },
    "kernelspec": {
      "name": "python3",
      "display_name": "Python 3"
    },
    "language_info": {
      "name": "python"
    }
  },
  "cells": [
    {
      "cell_type": "markdown",
      "metadata": {
        "id": "view-in-github",
        "colab_type": "text"
      },
      "source": [
        "<a href=\"https://colab.research.google.com/github/sathvik-spartan/sathvik-spartan/blob/main/Emotion_Detection_by_text_Project.ipynb\" target=\"_parent\"><img src=\"https://colab.research.google.com/assets/colab-badge.svg\" alt=\"Open In Colab\"/></a>"
      ]
    },
    {
      "cell_type": "markdown",
      "source": [
        "Installing required libraries (textblob and nltk)"
      ],
      "metadata": {
        "id": "PMYJv24Wm03W"
      }
    },
    {
      "cell_type": "code",
      "execution_count": 4,
      "metadata": {
        "colab": {
          "base_uri": "https://localhost:8080/"
        },
        "id": "V-EQAjjcmPWn",
        "outputId": "d894e969-2bfe-4fd5-f618-0c8823cb0daa"
      },
      "outputs": [
        {
          "output_type": "stream",
          "name": "stdout",
          "text": [
            "Requirement already satisfied: textblob in /usr/local/lib/python3.10/dist-packages (0.17.1)\n",
            "Requirement already satisfied: nltk in /usr/local/lib/python3.10/dist-packages (3.8.1)\n",
            "Requirement already satisfied: click in /usr/local/lib/python3.10/dist-packages (from nltk) (8.1.7)\n",
            "Requirement already satisfied: joblib in /usr/local/lib/python3.10/dist-packages (from nltk) (1.4.2)\n",
            "Requirement already satisfied: regex>=2021.8.3 in /usr/local/lib/python3.10/dist-packages (from nltk) (2024.9.11)\n",
            "Requirement already satisfied: tqdm in /usr/local/lib/python3.10/dist-packages (from nltk) (4.66.5)\n"
          ]
        }
      ],
      "source": [
        "!pip install textblob nltk"
      ]
    },
    {
      "cell_type": "markdown",
      "source": [
        "Download the nltk datasets"
      ],
      "metadata": {
        "id": "SKr8rcyPnGsz"
      }
    },
    {
      "cell_type": "code",
      "source": [
        "import nltk\n",
        "nltk.download('punkt')"
      ],
      "metadata": {
        "colab": {
          "base_uri": "https://localhost:8080/"
        },
        "id": "c6x1aaI8nOfN",
        "outputId": "8a5b4904-9c71-4ade-f171-6440ae2e827e"
      },
      "execution_count": 3,
      "outputs": [
        {
          "output_type": "stream",
          "name": "stderr",
          "text": [
            "[nltk_data] Downloading package punkt to /root/nltk_data...\n",
            "[nltk_data]   Package punkt is already up-to-date!\n"
          ]
        },
        {
          "output_type": "execute_result",
          "data": {
            "text/plain": [
              "True"
            ]
          },
          "metadata": {},
          "execution_count": 3
        }
      ]
    },
    {
      "cell_type": "markdown",
      "source": [
        "Python Code for Emotion Detection Using TextBlob and NRC Lexicon."
      ],
      "metadata": {
        "id": "82MVawZ4nVyT"
      }
    },
    {
      "cell_type": "code",
      "source": [
        "from textblob import TextBlob\n",
        "import nltk\n",
        "from nltk.corpus import wordnet as wn\n",
        "import requests\n",
        "\n",
        "# Load NRC Emotion Lexicon\n",
        "def load_nrc_emotion_lexicon():\n",
        "    url = 'https://raw.githubusercontent.com/words/moby/master/NRC-emotion-lexicon-wordlevel-alphabetized-v0.92.txt'\n",
        "    response = requests.get(url)\n",
        "    lines = response.text.splitlines()\n",
        "\n",
        "    emotion_lexicon = {}\n",
        "    for line in lines:\n",
        "        if line.count('\\t') == 2: # Check to make sure there are 2 tabs\n",
        "            word, emotion, association = line.split('\\t')\n",
        "            if association == '1':  # If word is associated with the emotion\n",
        "                if word not in emotion_lexicon:\n",
        "                    emotion_lexicon[word] = []\n",
        "                emotion_lexicon[word].append(emotion)\n",
        "    return emotion_lexicon\n",
        "\n",
        "# Function to get emotions from text\n",
        "def get_emotions(text, emotion_lexicon):\n",
        "    emotions = {\n",
        "        'anger': 0,\n",
        "        'anticipation': 0,\n",
        "        'disgust': 0,\n",
        "        'fear': 0,\n",
        "        'joy': 0,\n",
        "        'sadness': 0,\n",
        "        'surprise': 0,\n",
        "        'trust': 0\n",
        "    }\n",
        "\n",
        "    words = nltk.word_tokenize(text.lower())\n",
        "    for word in words:\n",
        "        if word in emotion_lexicon:\n",
        "            for emotion in emotion_lexicon[word]:\n",
        "                emotions[emotion] += 1\n",
        "\n",
        "    return emotions\n",
        "\n",
        "# TextBlob Sentiment Analysis\n",
        "def analyze_sentiment(text):\n",
        "    analysis = TextBlob(text)\n",
        "    sentiment = analysis.sentiment.polarity  # Returns a value between -1 and 1\n",
        "    return \"Positive\" if sentiment > 0 else \"Negative\" if sentiment < 0 else \"Neutral\"\n",
        "\n",
        "# Example text\n",
        "\n",
        "# Taking input from the user\n",
        "text = input(\"Enter your message: \")\n",
        "\n",
        "print(\"You entered:\", text)\n",
        "\n",
        "\n",
        "\n",
        "# Load NRC Emotion Lexicon\n",
        "emotion_lexicon = load_nrc_emotion_lexicon()\n",
        "\n",
        "# Get emotions\n",
        "emotions = get_emotions(text, emotion_lexicon)\n",
        "sentiment = analyze_sentiment(text)\n",
        "\n",
        "# Output the results\n",
        "print(\"Text: \", text)\n",
        "print(\"Detected Emotions: \", emotions)\n",
        "print(\"Sentiment: \", sentiment)\n"
      ],
      "metadata": {
        "colab": {
          "base_uri": "https://localhost:8080/"
        },
        "id": "p84IMwZnnbTo",
        "outputId": "f03f9bc0-5563-4f32-f67c-047fb79526b6"
      },
      "execution_count": 12,
      "outputs": [
        {
          "output_type": "stream",
          "name": "stdout",
          "text": [
            "Enter your message: i am extremely happy \n",
            "You entered: i am extremely happy \n",
            "Text:  i am extremely happy \n",
            "Detected Emotions:  {'anger': 0, 'anticipation': 0, 'disgust': 0, 'fear': 0, 'joy': 0, 'sadness': 0, 'surprise': 0, 'trust': 0}\n",
            "Sentiment:  Positive\n"
          ]
        }
      ]
    },
    {
      "cell_type": "code",
      "source": [
        "import re\n",
        "\n",
        "# Sample emotion lexicon (you can expand this with a full lexicon)\n",
        "emotion_lexicon = {\n",
        "    'happy': ['joy'],\n",
        "    'excited': ['anticipation', 'joy'],\n",
        "    'fearful': ['fear'],\n",
        "    'angry': ['anger'],\n",
        "    'trust': ['trust'],\n",
        "    'surprised': ['surprise'],\n",
        "    'sad': ['sadness'],\n",
        "    'good': ['joy', 'trust'],\n",
        "    'bad': ['sadness', 'fear']\n",
        "}\n",
        "\n",
        "# Function to get emotions from text\n",
        "def get_emotions(text, emotion_lexicon):\n",
        "    emotions = {\n",
        "        'anger': 0,\n",
        "        'anticipation': 0,\n",
        "        'disgust': 0,\n",
        "        'fear': 0,\n",
        "        'joy': 0,\n",
        "        'sadness': 0,\n",
        "        'surprise': 0,\n",
        "        'trust': 0\n",
        "    }\n",
        "\n",
        "    # Tokenize text (convert to lowercase and split by spaces or punctuation)\n",
        "    words = re.findall(r'\\w+', text.lower())\n",
        "\n",
        "    # Check each word in the emotion lexicon\n",
        "    for word in words:\n",
        "        if word in emotion_lexicon:\n",
        "            # For each emotion associated with the word, increase the count\n",
        "            for emotion in emotion_lexicon[word]:\n",
        "                emotions[emotion] += 1\n",
        "\n",
        "    return emotions\n",
        "\n",
        "# Function to analyze text for emotions\n",
        "def analyze_emotions():\n",
        "    # Take user input\n",
        "    text = input(\"Enter a sentence to analyze its emotions: \")\n",
        "\n",
        "    # Get the emotions from the text\n",
        "    result = get_emotions(text, emotion_lexicon)\n",
        "\n",
        "    # Display the results\n",
        "    print(\"\\nDetected Emotions:\")\n",
        "    for emotion, count in result.items():\n",
        "        if count > 0:\n",
        "            print(f\"{emotion.capitalize()}: {count}\")\n",
        "\n",
        "# Run the emotion detection\n",
        "if __name__ == \"__main__\":\n",
        "    analyze_emotions()\n"
      ],
      "metadata": {
        "id": "EKBe1n-DoPDj",
        "colab": {
          "base_uri": "https://localhost:8080/"
        },
        "outputId": "2d3c19bf-548a-43ad-9f66-29f28743da71"
      },
      "execution_count": 13,
      "outputs": [
        {
          "output_type": "stream",
          "name": "stdout",
          "text": [
            "Enter a sentence to analyze its emotions: I am happy\n",
            "\n",
            "Detected Emotions:\n",
            "Joy: 1\n"
          ]
        }
      ]
    }
  ]
}
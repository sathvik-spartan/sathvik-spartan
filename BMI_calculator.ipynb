{
  "nbformat": 4,
  "nbformat_minor": 0,
  "metadata": {
    "colab": {
      "provenance": [],
      "authorship_tag": "ABX9TyPr0KVlnZhX6+N43+G4Iyjo",
      "include_colab_link": true
    },
    "kernelspec": {
      "name": "python3",
      "display_name": "Python 3"
    },
    "language_info": {
      "name": "python"
    }
  },
  "cells": [
    {
      "cell_type": "markdown",
      "metadata": {
        "id": "view-in-github",
        "colab_type": "text"
      },
      "source": [
        "<a href=\"https://colab.research.google.com/github/sathvik-spartan/sathvik-spartan/blob/main/BMI_calculator.ipynb\" target=\"_parent\"><img src=\"https://colab.research.google.com/assets/colab-badge.svg\" alt=\"Open In Colab\"/></a>"
      ]
    },
    {
      "cell_type": "markdown",
      "source": [
        "BMI(Body Mass Index) Calculator."
      ],
      "metadata": {
        "id": "9dE-e2bMMlx-"
      }
    },
    {
      "cell_type": "code",
      "source": [
        "# Function to calculate BMI\n",
        "def calculate_bmi(weight, height):\n",
        "    bmi = weight / (height ** 2)\n",
        "    return bmi\n",
        "\n",
        "# Input from user\n",
        "try:\n",
        "    weight = float(input(\"Enter your weight in kg: \"))\n",
        "    height = float(input(\"Enter your height in meters: \"))\n",
        "\n",
        "    # Calculate BMI\n",
        "    bmi = calculate_bmi(weight, height)\n",
        "\n",
        "    # Determine BMI category\n",
        "    if bmi < 18.5:\n",
        "        category = \"Underweight\"\n",
        "    elif 18.5 <= bmi < 24.9:\n",
        "        category = \"Normal weight\"\n",
        "    elif 25 <= bmi < 29.9:\n",
        "        category = \"Overweight\"\n",
        "    else:\n",
        "        category = \"Obesity\"\n",
        "\n",
        "    # Display result\n",
        "    print(f\"Your BMI is {bmi:.2f}, which is considered {category}.\")\n",
        "except ValueError:\n",
        "    print(\"Please enter valid numbers for weight and height.\")\n"
      ],
      "metadata": {
        "colab": {
          "base_uri": "https://localhost:8080/",
          "height": 0
        },
        "id": "KCgu7h7BFkjV",
        "outputId": "f5e8f1de-62f6-42ff-f63b-3d78766c640e"
      },
      "execution_count": 3,
      "outputs": [
        {
          "output_type": "stream",
          "name": "stdout",
          "text": [
            "Enter your weight in kg: 100\n",
            "Enter your height in meters: 2.3\n",
            "Your BMI is 18.90, which is considered Normal weight.\n"
          ]
        }
      ]
    }
  ]
}
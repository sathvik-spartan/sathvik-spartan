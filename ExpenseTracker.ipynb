{
  "nbformat": 4,
  "nbformat_minor": 0,
  "metadata": {
    "colab": {
      "provenance": [],
      "authorship_tag": "ABX9TyN7HbMJzP6mkfcXWFp7tPF6",
      "include_colab_link": true
    },
    "kernelspec": {
      "name": "python3",
      "display_name": "Python 3"
    },
    "language_info": {
      "name": "python"
    }
  },
  "cells": [
    {
      "cell_type": "markdown",
      "metadata": {
        "id": "view-in-github",
        "colab_type": "text"
      },
      "source": [
        "<a href=\"https://colab.research.google.com/github/sathvik-spartan/sathvik-spartan/blob/main/ExpenseTracker.ipynb\" target=\"_parent\"><img src=\"https://colab.research.google.com/assets/colab-badge.svg\" alt=\"Open In Colab\"/></a>"
      ]
    },
    {
      "cell_type": "code",
      "source": [
        "import pandas as pd\n",
        "import os\n",
        "from datetime import datetime\n",
        "\n",
        "# Check if the CSV file already exists\n",
        "if not os.path.isfile(\"expenses.csv\"):\n",
        "    # Create DataFrame\n",
        "    df = pd.DataFrame(data)\n",
        "    df.to_csv(\"expenses.csv\", index=False)\n",
        "else:\n",
        "    print(\"File 'expenses.csv' already exists.\")\n"
      ],
      "metadata": {
        "colab": {
          "base_uri": "https://localhost:8080/"
        },
        "id": "8mkr7BzUjvPF",
        "outputId": "907b8e76-8382-4f97-974d-d64527bd5872"
      },
      "execution_count": 6,
      "outputs": [
        {
          "output_type": "stream",
          "name": "stdout",
          "text": [
            "File 'expenses.csv' already exists.\n"
          ]
        }
      ]
    },
    {
      "cell_type": "code",
      "execution_count": 7,
      "metadata": {
        "colab": {
          "base_uri": "https://localhost:8080/"
        },
        "id": "xu0A4ryJqNco",
        "outputId": "702a4ec6-3b46-472a-9427-4eab2ef5bd13"
      },
      "outputs": [
        {
          "output_type": "stream",
          "name": "stdout",
          "text": [
            "\n",
            "Expense Tracker Menu\n",
            "1. Add a new expense\n",
            "2. View all expenses\n",
            "3. View expense summary by category\n",
            "4. Exit\n",
            "Enter your choice: 1\n",
            "Enter the amount: 50000\n",
            "Enter the category (e.g., Food, Transport, Bills): Bills\n",
            "Enter a description: car\n",
            "Expense added successfully!\n",
            "\n",
            "Expense Tracker Menu\n",
            "1. Add a new expense\n",
            "2. View all expenses\n",
            "3. View expense summary by category\n",
            "4. Exit\n",
            "Enter your choice: 4\n",
            "Exiting the expense tracker.\n"
          ]
        }
      ],
      "source": [
        "# Load expenses from CSV file\n",
        "def load_expenses():\n",
        "    return pd.read_csv(\"expenses.csv\")\n",
        "\n",
        "# Save expenses to CSV file\n",
        "def save_expenses(df):\n",
        "    df.to_csv(\"expenses.csv\", index=False)\n",
        "\n",
        "# Add a new expense\n",
        "def add_expense():\n",
        "    date = datetime.now().strftime(\"%Y-%m-%d %H:%M:%S\")\n",
        "    amount = float(input(\"Enter the amount: \"))\n",
        "    category = input(\"Enter the category (e.g., Food, Transport, Bills): \")\n",
        "    description = input(\"Enter a description: \")\n",
        "\n",
        "    # Load current expenses and append the new expense\n",
        "    df = load_expenses()\n",
        "    new_expense = pd.DataFrame([[date, amount, category, description]], columns=df.columns)\n",
        "    df = pd.concat([df, new_expense], ignore_index=True)\n",
        "\n",
        "    # Save updated expenses\n",
        "    save_expenses(df)\n",
        "    print(\"Expense added successfully!\")\n",
        "\n",
        "# View all expenses\n",
        "def view_expenses():\n",
        "    df = load_expenses()\n",
        "    print(\"All Expenses:\\n\", df)\n",
        "\n",
        "# View expenses summary by category\n",
        "def view_summary():\n",
        "    df = load_expenses()\n",
        "    summary = df.groupby(\"category\")[\"amount\"].sum().reset_index()\n",
        "    print(\"Summary by Category:\\n\", summary)\n",
        "\n",
        "# Main menu to interact with the expense tracker\n",
        "def main():\n",
        "    while True:\n",
        "        print(\"\\nExpense Tracker Menu\")\n",
        "        print(\"1. Add a new expense\")\n",
        "        print(\"2. View all expenses\")\n",
        "        print(\"3. View expense summary by category\")\n",
        "        print(\"4. Exit\")\n",
        "\n",
        "        choice = input(\"Enter your choice: \")\n",
        "\n",
        "        if choice == \"1\":\n",
        "            add_expense()\n",
        "        elif choice == \"2\":\n",
        "            view_expenses()\n",
        "        elif choice == \"3\":\n",
        "            view_summary()\n",
        "        elif choice == \"4\":\n",
        "            print(\"Exiting the expense tracker.\")\n",
        "            break\n",
        "        else:\n",
        "            print(\"Invalid choice. Please try again.\")\n",
        "\n",
        "# Run the main function\n",
        "main()\n"
      ]
    }
  ]
}
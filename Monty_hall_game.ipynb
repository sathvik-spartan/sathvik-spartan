{
  "nbformat": 4,
  "nbformat_minor": 0,
  "metadata": {
    "colab": {
      "provenance": [],
      "authorship_tag": "ABX9TyOI9zQUG5AD9P/x+wu4YHTC",
      "include_colab_link": true
    },
    "kernelspec": {
      "name": "python3",
      "display_name": "Python 3"
    },
    "language_info": {
      "name": "python"
    }
  },
  "cells": [
    {
      "cell_type": "markdown",
      "metadata": {
        "id": "view-in-github",
        "colab_type": "text"
      },
      "source": [
        "<a href=\"https://colab.research.google.com/github/sathvik-spartan/sathvik-spartan/blob/main/Monty_hall_game.ipynb\" target=\"_parent\"><img src=\"https://colab.research.google.com/assets/colab-badge.svg\" alt=\"Open In Colab\"/></a>"
      ]
    },
    {
      "cell_type": "code",
      "execution_count": 1,
      "metadata": {
        "id": "-_1zhyfRVpL-",
        "colab": {
          "base_uri": "https://localhost:8080/",
          "height": 0
        },
        "outputId": "78b812c6-c2d9-4708-ee25-a1009a019b4a"
      },
      "outputs": [
        {
          "output_type": "stream",
          "name": "stdout",
          "text": [
            "Which door do you want to choose? (1,2,3): 1\n",
            "We are opening the door number-3\n",
            "Now, do you want to switch to door number-2? (yes/no)\n",
            "yes\n",
            "And your prize is .... CAR\n"
          ]
        }
      ],
      "source": [
        "# Monty Hall Game in Python\n",
        "import random\n",
        "\n",
        "def play_monty_hall(choice):\n",
        "    # Prizes behind the door\n",
        "    # initial ordering doesn't matter\n",
        "    prizes = ['Bike', 'Car', 'Cycle']\n",
        "\n",
        "    # Randomizing the prizes\n",
        "    random.shuffle(prizes)\n",
        "\n",
        "    # Determining door without car to open\n",
        "    while True:\n",
        "        opening_door = random.randrange(len(prizes))\n",
        "        if prizes[opening_door] != 'Car' and choice-1 != opening_door:\n",
        "            break\n",
        "\n",
        "    opening_door = opening_door + 1\n",
        "    print('We are opening the door number-%d' % (opening_door))\n",
        "\n",
        "    # Determining switching door\n",
        "    options = [1,2,3]\n",
        "    options.remove(choice)\n",
        "    options.remove(opening_door)\n",
        "    switching_door = options[0]\n",
        "\n",
        "    # Asking for switching the option\n",
        "    print('Now, do you want to switch to door number-%d? (yes/no)' %(switching_door))\n",
        "    answer = input()\n",
        "    if answer == 'yes':\n",
        "        result = switching_door - 1\n",
        "    else:\n",
        "        result = choice - 1\n",
        "\n",
        "    # Displaying the player's prize\n",
        "    print('And your prize is ....', prizes[result].upper())\n",
        "\n",
        "# Reading initial choice\n",
        "choice = int(input('Which door do you want to choose? (1,2,3): '))\n",
        "\n",
        "# Playing game\n",
        "play_monty_hall(choice)"
      ]
    }
  ]
}